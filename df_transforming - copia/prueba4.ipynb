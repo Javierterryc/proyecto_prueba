{
 "cells": [
  {
   "cell_type": "code",
   "execution_count": 1,
   "id": "d44abd0f-1ac9-4534-8bda-4ac6286968be",
   "metadata": {
    "tags": []
   },
   "outputs": [],
   "source": [
    "import pandas as pd\n",
    "df_original = pd.read_csv('Spotify_Youtube.csv')"
   ]
  },
  {
   "cell_type": "code",
   "execution_count": 2,
   "id": "baed9979-7887-4b6d-927c-a468490fc1a1",
   "metadata": {
    "tags": []
   },
   "outputs": [],
   "source": [
    "# Eliminar la columna especificada\n",
    "\n",
    "delete_columns = ['Unnamed: 0','Description','Uri','Url_youtube','Url_spotify','Licensed','official_video']\n",
    "df_new = df_original.drop(delete_columns, axis=1)\n",
    "\n",
    "df_new.to_csv('df_new.csv', index=False) # Guardar el Da"
   ]
  },
  {
   "cell_type": "code",
   "execution_count": 3,
   "id": "b34e0c6a-9fc1-4b31-bef4-17a461137620",
   "metadata": {
    "tags": []
   },
   "outputs": [],
   "source": [
    "artist_grouped = df_new.groupby('Artist')[['Views', 'Stream']].sum() \n",
    "artist_grouped.to_csv('df_artist_grouped.csv', index=True)"
   ]
  },
  {
   "cell_type": "code",
   "execution_count": 4,
   "id": "0f4f2db1-e4f3-4273-a99b-9da037667170",
   "metadata": {
    "tags": []
   },
   "outputs": [],
   "source": [
    "artist_sorted = artist_grouped.sort_values(['Views', 'Stream'], ascending=False)\n",
    "# Creamos un archivo con el top 10 de artistas con más visualizaciones"
   ]
  },
  {
   "cell_type": "code",
   "execution_count": 5,
   "id": "0c44bf77-ade1-4991-b6a4-554614824c37",
   "metadata": {
    "tags": []
   },
   "outputs": [],
   "source": [
    "df_views = df_new.groupby('Artist')['Views'].sum().sort_values(ascending=False)[:10]\n",
    "df_views.to_csv('df_views.csv',index=True)\n",
    "\n",
    "# Y el otro con los streams de Spotify en orden descedente del top 10\n",
    "df_streams = df_new.groupby('Artist')['Stream'].sum().sort_values(ascending=False)[:10]\n",
    "df_streams.to_csv('df_streams.csv',index=True)"
   ]
  },
  {
   "cell_type": "code",
   "execution_count": 8,
   "id": "79580bd0-1d09-4236-9e2a-7f20f5295d80",
   "metadata": {
    "tags": []
   },
   "outputs": [],
   "source": [
    "#Youtube \n",
    "\n",
    "likes = df_new.groupby('Artist')[['Views','Likes','Comments']].sum().sort_values(['Views', 'Likes','Comments'], ascending=False)[:20]\n",
    "likes.to_csv('df_likes.csv', index=True)"
   ]
  },
  {
   "cell_type": "code",
   "execution_count": null,
   "id": "d57db5e6-13e5-4b7d-a3e0-ceda15080c2d",
   "metadata": {
    "tags": []
   },
   "outputs": [],
   "source": [
    "# Esto es para hacer gráficas de métricas sobre los artistas top 10 de Spotify\n",
    "metrics = df_new.groupby(top_10['Artist'])[['Danceability','Energy','Valence']].mean()\n",
    "metrics.to_csv('df_metrics.csv',index=True)"
   ]
  },
  {
   "cell_type": "code",
   "execution_count": null,
   "id": "f6c5364a-9870-4261-9323-d65ef85dbe7b",
   "metadata": {
    "tags": []
   },
   "outputs": [],
   "source": [
    "colour = {'Danceability':'magenta', 'Energy': 'green', 'Valence': 'orange'}\n",
    "dict['Danceability']"
   ]
  },
  {
   "cell_type": "code",
   "execution_count": null,
   "id": "923d58dc-7ee9-486d-bd7b-ce4b7be7803f",
   "metadata": {
    "tags": []
   },
   "outputs": [],
   "source": [
    "selected_metric = 'Energy'\n",
    "colour = {'Danceability':{'color':'magenta'}, 'Energy': {'color':'green'},\n",
    "          'Valence': {'color':'orange'}}\n",
    "\n",
    "marker = colour[selected_metric]\n",
    "marker"
   ]
  },
  {
   "cell_type": "code",
   "execution_count": null,
   "id": "af726d3e-6d63-4ed6-a447-c57549335e0d",
   "metadata": {
    "tags": []
   },
   "outputs": [],
   "source": [
    "outer_dict = {'key1': 'value1','key2': {'nested_key1': 'nested_value1','nested_key2': 'nested_value2'},\n",
    "    'key3': 'value3'}\n",
    "outer_dict['key3']"
   ]
  },
  {
   "cell_type": "code",
   "execution_count": null,
   "id": "589b85da-7d95-4273-8ddd-781d4ac093dd",
   "metadata": {},
   "outputs": [],
   "source": []
  },
  {
   "cell_type": "code",
   "execution_count": null,
   "id": "19122f3b-5d4d-4e4d-991d-96054f8e7171",
   "metadata": {},
   "outputs": [],
   "source": []
  }
 ],
 "metadata": {
  "kernelspec": {
   "display_name": "Python 3 (ipykernel)",
   "language": "python",
   "name": "python3"
  },
  "language_info": {
   "codemirror_mode": {
    "name": "ipython",
    "version": 3
   },
   "file_extension": ".py",
   "mimetype": "text/x-python",
   "name": "python",
   "nbconvert_exporter": "python",
   "pygments_lexer": "ipython3",
   "version": "3.11.5"
  }
 },
 "nbformat": 4,
 "nbformat_minor": 5
}
