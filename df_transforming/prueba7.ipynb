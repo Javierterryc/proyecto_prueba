{
 "cells": [
  {
   "cell_type": "code",
   "execution_count": 11,
   "id": "7fe8cbe2-d780-4167-b17f-1f4715ff8bd0",
   "metadata": {
    "tags": []
   },
   "outputs": [],
   "source": [
    "# YOUTUBE VIEWS\n",
    "import pandas as pd\n",
    "\n",
    "# Assuming 'df' is your DataFrame with columns 'Artist', 'Track', and 'Views'\n",
    "df = pd.read_csv('Spotify_Youtube.csv')\n",
    "output_folder = 'yt_artists'\n",
    "if not os.path.exists(output_folder):\n",
    "    os.makedirs(output_folder)\n",
    "    \n",
    "    \n",
    "# List of artists\n",
    "artists_to_filter = ['Ed Sheeran','CoComelon', 'Katy Perry', 'Charlie Puth', 'Luis Fonsi', 'Justin Bieber',\n",
    "                      'Daddy Yankee', 'Bruno Mars', 'Macklemore & Ryan Lewis', 'Coldplay']\n",
    "\n",
    "# Loop through the list of artists\n",
    "for artist in artists_to_filter:\n",
    "    # Filter the DataFrame for the current artist and select specific columns\n",
    "    artist_df = df.loc[df['Artist'] == artist, ['Artist', 'Track', 'Views']]\n",
    "    \n",
    "    # Sort the DataFrame based on 'Views' in descending order\n",
    "    artist_df = artist_df.sort_values(by='Views', ascending=True)\n",
    "    file_path = os.path.join(output_folder, f'{artist.replace(\" \", \"_\")}.csv')\n",
    "    artist_df.to_csv(file_path, index=False)\n"
   ]
  },
  {
   "cell_type": "code",
   "execution_count": 12,
   "id": "92302ab4-bd86-4d38-a941-09a14fbcf94c",
   "metadata": {
    "tags": []
   },
   "outputs": [],
   "source": [
    "# SPOTIFY STREAMS\n",
    "\n",
    "df = pd.read_csv('Spotify_Youtube.csv')\n",
    "output_folder = 'sp_artists'\n",
    "if not os.path.exists(output_folder):\n",
    "    os.makedirs(output_folder)\n",
    "    \n",
    "artists_to_filter = ['Post Malone','Ed Sheeran','Dua Lipa','XXXTENTACION','The Weeknd',\n",
    "                     'Justin Bieber','Imagine Dragons','Coldplay','Khalid','Bruno Mars']\n",
    "for artist in artists_to_filter:\n",
    "    # Filter the DataFrame for the current artist and select specific columns\n",
    "    artist_df = df.loc[df['Artist'] == artist, ['Artist', 'Track', 'Stream']]\n",
    "    \n",
    "    # Sort the DataFrame based on 'Views' in descending order\n",
    "    artist_df = artist_df.sort_values(by='Stream', ascending=True)\n",
    "    file_path = os.path.join(output_folder, f'{artist.replace(\" \", \"_\")}.csv')\n",
    "    artist_df.to_csv(file_path, index=False)\n"
   ]
  },
  {
   "cell_type": "code",
   "execution_count": 20,
   "id": "8148d3c7-2212-467b-bc20-ed6c11bb7596",
   "metadata": {
    "tags": []
   },
   "outputs": [],
   "source": [
    "df = pd.read_csv('country-capital-lat-long-population.csv')\n",
    "selected_columns = ['Country', 'Latitude', 'Longitude']\n",
    "countries = df[selected_columns]\n",
    "countries.to_csv('countries.csv', index=False)"
   ]
  },
  {
   "cell_type": "code",
   "execution_count": 27,
   "id": "854502b5-167c-49b1-ba41-65c066c5e3a4",
   "metadata": {
    "tags": []
   },
   "outputs": [],
   "source": [
    "df = pd.read_csv('df_artist_grouped.csv')\n",
    "df_sorted_artists = df.sort_values(by='Stream', ascending=False)[:500]\n",
    "df_sorted_artists.to_csv('df_sorted_artists.csv', index=False)"
   ]
  },
  {
   "cell_type": "code",
   "execution_count": 34,
   "id": "c8db6a4b-cd00-43f0-a691-739c331163cc",
   "metadata": {
    "tags": []
   },
   "outputs": [],
   "source": [
    "df = pd.read_csv('Top_Charts_Artists_Country.csv')\n",
    "df[['Artist', 'Country']] = df['Artist;Country'].str.split(';', expand=True)\n",
    "df.drop(columns=['Artist;Country'], inplace=True)\n",
    "unique = df['Country'].drop_duplicates()\n",
    "unique.to_csv('countries.csv', index=False)"
   ]
  },
  {
   "cell_type": "code",
   "execution_count": 41,
   "id": "38ca2d57-09c0-4844-a46c-0585986a0eaf",
   "metadata": {
    "tags": []
   },
   "outputs": [],
   "source": [
    "df = pd.read_csv('paises.csv')\n",
    "df[['pais', 'lat','lon']] = df['pais;lat;lon'].str.split(';', expand=True)\n",
    "df.drop(columns=['pais;lat;lon'], inplace=True)\n",
    "countries = df\n",
    "countries.to_csv('countries.csv',index=False)\n"
   ]
  }
 ],
 "metadata": {
  "kernelspec": {
   "display_name": "Python 3 (ipykernel)",
   "language": "python",
   "name": "python3"
  },
  "language_info": {
   "codemirror_mode": {
    "name": "ipython",
    "version": 3
   },
   "file_extension": ".py",
   "mimetype": "text/x-python",
   "name": "python",
   "nbconvert_exporter": "python",
   "pygments_lexer": "ipython3",
   "version": "3.11.5"
  }
 },
 "nbformat": 4,
 "nbformat_minor": 5
}
